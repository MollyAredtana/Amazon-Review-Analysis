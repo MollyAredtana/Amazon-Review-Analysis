{
 "cells": [
  {
   "cell_type": "code",
   "execution_count": 5,
   "id": "eb2204d8-06fa-44d7-a1ef-3649be632d64",
   "metadata": {},
   "outputs": [],
   "source": [
    "# load the libraries\n",
    "import requests\n",
    "from bs4 import BeautifulSoup\n",
    "import csv\n",
    "import re\n",
    "import pandas as pd\n",
    "import spacy\n",
    "from langdetect import detect\n",
    "from sklearn.decomposition import LatentDirichletAllocation\n",
    "from sklearn.feature_extraction.text import CountVectorizer\n",
    "import matplotlib.pyplot as plt\n",
    "import seaborn as sns\n",
    "\n"
   ]
  },
  {
   "cell_type": "code",
   "execution_count": null,
   "id": "71085e36-f0c5-47c2-a0ec-685df7a7d9f0",
   "metadata": {},
   "outputs": [],
   "source": [
    "# build a scraper here\n",
    "def scrape_chewy_reviews(product_url):\n",
    "    # Send a GET request\n",
    "    page = requests.get(product_url)\n",
    "    soup = BeautifulSoup(page.content, 'html.parser')\n",
    "    \n",
    "    # Find review elements - Update this selector based on the actual website's HTML structure\n",
    "    reviews = soup.findAll('div', class_='review-selector')  # Example class, update as needed\n",
    "    \n",
    "    review_texts = []\n",
    "    for review in reviews:\n",
    "        # Extract text\n",
    "        review_text = review.get_text(strip=True)\n",
    "        review_texts.append(review_text)\n",
    "    \n",
    "    return review_texts\n",
    "\n",
    "\n",
    "# url input\n",
    "\n",
    "product_url = \"https://www.amazon.com/Compatible-Inclusive-Shockproof-Protection-Personalized/dp/B0B6P3YVW1/ref=sr_1_17_sspa?crid=2DJBG6UIN6I1R&dib=eyJ2IjoiMSJ9.0QlXkkSXcIFr_mv-soAVJxpejGutkLQGpri0VVjEBs8dK1IjSUgm4NQ6E6pSynqJwXuthpTKYeclfC7MKKJXohSkG-W23zf_-K37DXToszwMg0j-TDIphU21WMZD5sGfMsmzhZlKaPJmrqzHJFh3nss5mBof7ROcre_Uvsxh0HVIXufzUh8wMj6UX5zZuBGEpssuHRZ7P1hXbfog85UyoIqOR6wV3OI8_vt2ZeaPD5o.gHTBXsG7Q80dVucwtHWP0voDJ9EsJpp-95bNG2WlBJk&dib_tag=se&keywords=phonecase&qid=1712263528&sprefix=phonecase%2Caps%2C88&sr=8-17-spons&sp_csd=d2lkZ2V0TmFtZT1zcF9tdGY&th=1\"\n",
    "reviews = scrape_chewy_reviews(product_url)\n",
    "print(reviews)"
   ]
  },
  {
   "cell_type": "code",
   "execution_count": null,
   "id": "539301eb-b7e9-40cd-b682-6b4bfbbd574f",
   "metadata": {},
   "outputs": [],
   "source": []
  }
 ],
 "metadata": {
  "kernelspec": {
   "display_name": "Python 3 (ipykernel)",
   "language": "python",
   "name": "python3"
  },
  "language_info": {
   "codemirror_mode": {
    "name": "ipython",
    "version": 3
   },
   "file_extension": ".py",
   "mimetype": "text/x-python",
   "name": "python",
   "nbconvert_exporter": "python",
   "pygments_lexer": "ipython3",
   "version": "3.9.6"
  }
 },
 "nbformat": 4,
 "nbformat_minor": 5
}
